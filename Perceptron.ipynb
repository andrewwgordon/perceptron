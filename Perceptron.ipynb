{
  "nbformat": 4,
  "nbformat_minor": 0,
  "metadata": {
    "colab": {
      "name": "Perceptron.ipynb",
      "provenance": [],
      "collapsed_sections": [],
      "authorship_tag": "ABX9TyPJluCuABtsqJRQ0vgZ/8Ph",
      "include_colab_link": true
    },
    "kernelspec": {
      "name": "python3",
      "display_name": "Python 3"
    }
  },
  "cells": [
    {
      "cell_type": "markdown",
      "metadata": {
        "id": "view-in-github",
        "colab_type": "text"
      },
      "source": [
        "<a href=\"https://colab.research.google.com/github/andrewwgordon/perceptron/blob/main/Perceptron.ipynb\" target=\"_parent\"><img src=\"https://colab.research.google.com/assets/colab-badge.svg\" alt=\"Open In Colab\"/></a>"
      ]
    },
    {
      "cell_type": "markdown",
      "metadata": {
        "id": "a76Xsce012lI"
      },
      "source": [
        "# AI Explained - The Perceptron\n",
        "## Biological Neurons\n",
        "I'm not planning to go in-depth on the biological neuron, but it's key to understanding where Neural Networks have come from to have a basic appreciation of a neuron.\n",
        "![Image](https://upload.wikimedia.org/wikipedia/commons/1/10/Blausen_0657_MultipolarNeuron.png)\n",
        "The concept of a neuron was first proposed in the mid 19th century by a number of scientists. However, the major breakthrough came in 1891 by the German sciemtist [Wilhelm Waldeyer](https://en.wikipedia.org/wiki/Heinrich_Wilhelm_Gottfried_von_Waldeyer-Hartz). For a good entry introduction to Neurons I recommend [this article](https://www.khanacademy.org/science/biology/human-biology/neuron-nervous-system/a/overview-of-neuron-structure-and-function) on Khanacademy.It was understood early on that Neurons are the information processing backbone of biological systems. Essentially, a neuron has three basic functions:\n",
        "- Receive signals (information)\n",
        "- Integrate these received signals and determine what information should be passed on\n",
        "- Send the integrated and procesed information on as signals to connected neurons\n",
        "\n",
        "## Artificial Neurons\n",
        "It will be obvious to any Computer Scientist or Software Engineer that the description of a biological neuron is analogeous to a generalised information processing function.\n",
        "\n",
        "In the 1940's, this analogy is exactly what [Warren McCullock](https://en.wikipedia.org/wiki/Warren_Sturgis_McCulloch) and [Walter Pitts](https://en.wikipedia.org/wiki/Walter_Pitts) outlined their seminal paper [A Logical Calculus of the Ideas Immanent in Nervous Activity](https://www.cs.cmu.edu/~./epxing/Class/10715/reading/McCulloch.and.Pitts.pdf). This paper is the foundation for all the work in Neural Networks and Deep Learning that has been developed since.\n",
        "\n",
        "An Artificial Neuron can be simply stated as a mathematical function that takes a series of inputs, computes a function on these inputs that generates an output.\n",
        "## Perceptron\n",
        "McCullock and Pitts work was further developed in the 1950s by [Frank Rosenblatt](https://en.wikipedia.org/wiki/Frank_Rosenblatt) who was a Research Psychologist and Project Engineer at the Cornell Aeronautical Laboratory. Rosenblatts work culmulated in the first Neural Network implementation on an [IBM 704](https://en.wikipedia.org/wiki/IBM_704). Rosenblatt described his system Perceptron. You can read his 1958 paper [here](https://citeseerx.ist.psu.edu/viewdoc/download?doi=10.1.1.335.3398&rep=rep1&type=pdf). \n",
        "\n",
        "\n"
      ]
    },
    {
      "cell_type": "code",
      "metadata": {
        "id": "ET6eYGq71oOC"
      },
      "source": [
        ""
      ],
      "execution_count": null,
      "outputs": []
    }
  ]
}